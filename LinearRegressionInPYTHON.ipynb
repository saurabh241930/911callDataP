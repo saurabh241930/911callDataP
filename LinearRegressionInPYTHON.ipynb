{
  "cells": [
    {
      "metadata": {
        "_cell_guid": "b1076dfc-b9ad-4769-8c92-a6c4dae69d19",
        "collapsed": true,
        "_uuid": "8f2839f25d086af736a60e9eeb907d3b93b6e0e5",
        "trusted": true
      },
      "cell_type": "code",
      "source": "import numpy as np \nimport pandas as pd \nimport matplotlib.pyplot as plt",
      "execution_count": 1,
      "outputs": []
    },
    {
      "metadata": {
        "_cell_guid": "79c7e3d0-c299-4dcb-8224-4455121ee9b0",
        "collapsed": true,
        "_uuid": "d629ff2d2480ee46fbb7e2d37f6b5fab8052498a",
        "trusted": true
      },
      "cell_type": "code",
      "source": "%matplotlib inline",
      "execution_count": 2,
      "outputs": []
    },
    {
      "metadata": {
        "_cell_guid": "faf423b2-b51b-44c1-9890-7e89507595ce",
        "_uuid": "28f6a715d7cd95502ebaafdb269405b51cd3d31a",
        "trusted": true,
        "collapsed": true
      },
      "cell_type": "code",
      "source": "X = []\nY = []\n\nfor line in open('../input/data_1d.csv'):\n    x,y = line.split(',')\n    X.append(float(x))\n    Y.append(float(y))\n\n",
      "execution_count": 3,
      "outputs": []
    },
    {
      "metadata": {
        "_cell_guid": "d38048a8-cb86-4f7c-9670-3f7bcfc24383",
        "_uuid": "3b3f989e433b51b834353d59d6820b4c839e6598",
        "trusted": true,
        "collapsed": true
      },
      "cell_type": "code",
      "source": "X = np.array(X)\nY = np.array(Y)",
      "execution_count": 4,
      "outputs": []
    },
    {
      "metadata": {
        "_cell_guid": "f3ad7cd8-1955-4140-b31f-8acb85bcec0a",
        "_uuid": "5af01b289939be41df6cc192f7b049537cdf71ee",
        "trusted": true
      },
      "cell_type": "code",
      "source": "plt.scatter(X,Y)",
      "execution_count": 5,
      "outputs": [
        {
          "output_type": "execute_result",
          "execution_count": 5,
          "data": {
            "text/plain": "<matplotlib.collections.PathCollection at 0x7ff9ec3f7fd0>"
          },
          "metadata": {}
        },
        {
          "output_type": "display_data",
          "data": {
            "text/plain": "<matplotlib.figure.Figure at 0x7ff9ec4a1748>",
            "image/png": "[encoded data removed]"
          },
          "metadata": {}
        }
      ]
    },
    {
      "metadata": {
        "_cell_guid": "e8a43939-a4e1-4e51-a32a-7a966bd8dd4b",
        "collapsed": true,
        "_uuid": "9e8428a3ec744850c5d420d9409bd5f353496162",
        "trusted": true
      },
      "cell_type": "code",
      "source": "denominator = X.dot(X) - X.mean() * X.sum()\na = ( X.dot(Y) - Y.mean()*X.sum() ) / denominator\nb = ( Y.mean() * X.dot(X) - X.mean() * X.dot(Y) ) / denominator",
      "execution_count": 9,
      "outputs": []
    },
    {
      "metadata": {
        "_cell_guid": "07ea56e5-dde2-4233-9193-1c837725de68",
        "_uuid": "341e81f1d817e38daccf103aa1e8aebc60394226",
        "trusted": true
      },
      "cell_type": "code",
      "source": "#Predicting Y\n\nPrediction = a*X + b\n\nplt.scatter(X,Y)\nplt.plot(X,Prediction,color=\"Red\")\n\n",
      "execution_count": 11,
      "outputs": [
        {
          "output_type": "execute_result",
          "execution_count": 11,
          "data": {
            "text/plain": "[<matplotlib.lines.Line2D at 0x7ff9dbee7320>]"
          },
          "metadata": {}
        },
        {
          "output_type": "display_data",
          "data": {
            "text/plain": "<matplotlib.figure.Figure at 0x7ff9dbee7898>",
            "image/png": "[encoded data removed]"
          },
          "metadata": {}
        }
      ]
    },
    {
      "metadata": {
        "trusted": true,
        "collapsed": true,
        "_uuid": "cc7b6fb238eefe157f756eb6e7451684da8900a3"
      },
      "cell_type": "code",
      "source": "",
      "execution_count": null,
      "outputs": []
    }
  ],
  "metadata": {
    "language_info": {
      "name": "python",
      "version": "3.6.4",
      "mimetype": "text/x-python",
      "codemirror_mode": {
        "name": "ipython",
        "version": 3
      },
      "pygments_lexer": "ipython3",
      "nbconvert_exporter": "python",
      "file_extension": ".py"
    },
    "kernelspec": {
      "display_name": "Python 3",
      "language": "python",
      "name": "python3"
    }
  },
  "nbformat": 4,
  "nbformat_minor": 1
}