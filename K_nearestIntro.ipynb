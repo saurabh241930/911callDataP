{
  "cells": [
    {
      "metadata": {
        "collapsed": true,
        "_uuid": "8f2839f25d086af736a60e9eeb907d3b93b6e0e5",
        "_cell_guid": "b1076dfc-b9ad-4769-8c92-a6c4dae69d19",
        "trusted": true
      },
      "cell_type": "code",
      "source": "import numpy as np \nimport pandas as pd \nimport matplotlib.pyplot as plt\nimport seaborn as sns",
      "execution_count": 1,
      "outputs": []
    },
    {
      "metadata": {
        "collapsed": true,
        "_uuid": "d629ff2d2480ee46fbb7e2d37f6b5fab8052498a",
        "_cell_guid": "79c7e3d0-c299-4dcb-8224-4455121ee9b0",
        "trusted": true
      },
      "cell_type": "code",
      "source": "%matplotlib inline",
      "execution_count": 2,
      "outputs": []
    },
    {
      "metadata": {
        "_uuid": "80dbb79c57af23c73645cae3af4f3d0e0860c49e",
        "_cell_guid": "936de60f-c0c7-4bea-bc63-377eda17264a",
        "trusted": true
      },
      "cell_type": "code",
      "source": "df = pd.read_csv('../input/Classified Data',index_col=0)\ndf.head()",
      "execution_count": 3,
      "outputs": [
        {
          "output_type": "execute_result",
          "execution_count": 3,
          "data": {
            "text/plain": "        WTT       PTI       EQW       SBI       LQE       QWG       FDJ  \\\n0  0.913917  1.162073  0.567946  0.755464  0.780862  0.352608  0.759697   \n1  0.635632  1.003722  0.535342  0.825645  0.924109  0.648450  0.675334   \n2  0.721360  1.201493  0.921990  0.855595  1.526629  0.720781  1.626351   \n3  1.234204  1.386726  0.653046  0.825624  1.142504  0.875128  1.409708   \n4  1.279491  0.949750  0.627280  0.668976  1.232537  0.703727  1.115596   \n\n        PJF       HQE       NXJ  TARGET CLASS  \n0  0.643798  0.879422  1.231409             1  \n1  1.013546  0.621552  1.492702             0  \n2  1.154483  0.957877  1.285597             0  \n3  1.380003  1.522692  1.153093             1  \n4  0.646691  1.463812  1.419167             1  ",
            "text/html": "<div>\n<style scoped>\n    .dataframe tbody tr th:only-of-type {\n        vertical-align: middle;\n    }\n\n    .dataframe tbody tr th {\n        vertical-align: top;\n    }\n\n    .dataframe thead th {\n        text-align: right;\n    }\n</style>\n<table border=\"1\" class=\"dataframe\">\n  <thead>\n    <tr style=\"text-align: right;\">\n      <th></th>\n      <th>WTT</th>\n      <th>PTI</th>\n      <th>EQW</th>\n      <th>SBI</th>\n      <th>LQE</th>\n      <th>QWG</th>\n      <th>FDJ</th>\n      <th>PJF</th>\n      <th>HQE</th>\n      <th>NXJ</th>\n      <th>TARGET CLASS</th>\n    </tr>\n  </thead>\n  <tbody>\n    <tr>\n      <th>0</th>\n      <td>0.913917</td>\n      <td>1.162073</td>\n      <td>0.567946</td>\n      <td>0.755464</td>\n      <td>0.780862</td>\n      <td>0.352608</td>\n      <td>0.759697</td>\n      <td>0.643798</td>\n      <td>0.879422</td>\n      <td>1.231409</td>\n      <td>1</td>\n    </tr>\n    <tr>\n      <th>1</th>\n      <td>0.635632</td>\n      <td>1.003722</td>\n      <td>0.535342</td>\n      <td>0.825645</td>\n      <td>0.924109</td>\n      <td>0.648450</td>\n      <td>0.675334</td>\n      <td>1.013546</td>\n      <td>0.621552</td>\n      <td>1.492702</td>\n      <td>0</td>\n    </tr>\n    <tr>\n      <th>2</th>\n      <td>0.721360</td>\n      <td>1.201493</td>\n      <td>0.921990</td>\n      <td>0.855595</td>\n      <td>1.526629</td>\n      <td>0.720781</td>\n      <td>1.626351</td>\n      <td>1.154483</td>\n      <td>0.957877</td>\n      <td>1.285597</td>\n      <td>0</td>\n    </tr>\n    <tr>\n      <th>3</th>\n      <td>1.234204</td>\n      <td>1.386726</td>\n      <td>0.653046</td>\n      <td>0.825624</td>\n      <td>1.142504</td>\n      <td>0.875128</td>\n      <td>1.409708</td>\n      <td>1.380003</td>\n      <td>1.522692</td>\n      <td>1.153093</td>\n      <td>1</td>\n    </tr>\n    <tr>\n      <th>4</th>\n      <td>1.279491</td>\n      <td>0.949750</td>\n      <td>0.627280</td>\n      <td>0.668976</td>\n      <td>1.232537</td>\n      <td>0.703727</td>\n      <td>1.115596</td>\n      <td>0.646691</td>\n      <td>1.463812</td>\n      <td>1.419167</td>\n      <td>1</td>\n    </tr>\n  </tbody>\n</table>\n</div>"
          },
          "metadata": {}
        }
      ]
    },
    {
      "metadata": {
        "collapsed": true,
        "_uuid": "719c14c7ac24c1fb5ca255e7413bc1c85e1bc186",
        "_cell_guid": "d3cc6c94-3971-4276-87f4-2273321e923b",
        "trusted": true
      },
      "cell_type": "code",
      "source": "from sklearn.preprocessing import StandardScaler",
      "execution_count": 4,
      "outputs": []
    },
    {
      "metadata": {
        "collapsed": true,
        "_uuid": "7de545b44cb6e48044c54f1f43de00c499f0a373",
        "_cell_guid": "48d71586-0308-42fa-ae02-36c2e2089237",
        "trusted": true
      },
      "cell_type": "code",
      "source": "scaler = StandardScaler()",
      "execution_count": 5,
      "outputs": []
    },
    {
      "metadata": {
        "_uuid": "545682f938aa8386a630d56c91aa7db93f739966",
        "_cell_guid": "8bad54cf-c4c6-477b-a1f8-4ac9ad94bad5",
        "trusted": true
      },
      "cell_type": "code",
      "source": "scaler.fit(df.drop('TARGET CLASS',axis=1))",
      "execution_count": 6,
      "outputs": [
        {
          "output_type": "execute_result",
          "execution_count": 6,
          "data": {
            "text/plain": "StandardScaler(copy=True, with_mean=True, with_std=True)"
          },
          "metadata": {}
        }
      ]
    },
    {
      "metadata": {
        "collapsed": true,
        "_uuid": "e5fe6814f76addb1d32252003233dee641b9bb8b",
        "_cell_guid": "4c601aa4-e664-4d44-ad11-d25cf738ced1",
        "trusted": true
      },
      "cell_type": "code",
      "source": "scaled_features = scaler.transform(df.drop('TARGET CLASS',axis=1))",
      "execution_count": 7,
      "outputs": []
    },
    {
      "metadata": {
        "_uuid": "3061472d87a45a25fd1d2110182982ed451f9eae",
        "_cell_guid": "5b0a0c04-c6ff-4cd8-ba4c-d1d1909c62d9",
        "trusted": true
      },
      "cell_type": "code",
      "source": "scaled_features",
      "execution_count": 8,
      "outputs": [
        {
          "output_type": "execute_result",
          "execution_count": 8,
          "data": {
            "text/plain": "array([[-0.12354188,  0.18590747, -0.91343069, ..., -1.48236813,\n        -0.9497194 , -0.64331425],\n       [-1.08483602, -0.43034845, -1.02531333, ..., -0.20224031,\n        -1.82805088,  0.63675862],\n       [-0.78870217,  0.33931821,  0.30151137, ...,  0.28570652,\n        -0.68249379, -0.37784986],\n       ...,\n       [ 0.64177714, -0.51308341, -0.17920486, ..., -2.36249443,\n        -0.81426092,  0.11159651],\n       [ 0.46707241, -0.98278576, -1.46519359, ..., -0.03677699,\n         0.40602453, -0.85567   ],\n       [-0.38765353, -0.59589427, -1.4313981 , ..., -0.56778932,\n         0.3369971 ,  0.01034996]])"
          },
          "metadata": {}
        }
      ]
    },
    {
      "metadata": {
        "_uuid": "94cd838685223ba873cefabb87976ba77596a2cb",
        "_cell_guid": "fe732df8-7497-409a-8901-05567a01ea6c",
        "trusted": true,
        "collapsed": true
      },
      "cell_type": "code",
      "source": "df_feat = pd.DataFrame(scaled_features,columns=df.columns[:-1])",
      "execution_count": 9,
      "outputs": []
    },
    {
      "metadata": {
        "_uuid": "fc8d03e94b695bcb6df23559c6e7c1e1ada1a019",
        "_cell_guid": "81c1520f-d39e-4b89-b924-0d1b030a05d7",
        "trusted": true
      },
      "cell_type": "code",
      "source": "df_feat.head()",
      "execution_count": 10,
      "outputs": [
        {
          "output_type": "execute_result",
          "execution_count": 10,
          "data": {
            "text/plain": "        WTT       PTI       EQW       SBI       LQE       QWG       FDJ  \\\n0 -0.123542  0.185907 -0.913431  0.319629 -1.033637 -2.308375 -0.798951   \n1 -1.084836 -0.430348 -1.025313  0.625388 -0.444847 -1.152706 -1.129797   \n2 -0.788702  0.339318  0.301511  0.755873  2.031693 -0.870156  2.599818   \n3  0.982841  1.060193 -0.621399  0.625299  0.452820 -0.267220  1.750208   \n4  1.139275 -0.640392 -0.709819 -0.057175  0.822886 -0.936773  0.596782   \n\n        PJF       HQE       NXJ  \n0 -1.482368 -0.949719 -0.643314  \n1 -0.202240 -1.828051  0.636759  \n2  0.285707 -0.682494 -0.377850  \n3  1.066491  1.241325 -1.026987  \n4 -1.472352  1.040772  0.276510  ",
            "text/html": "<div>\n<style scoped>\n    .dataframe tbody tr th:only-of-type {\n        vertical-align: middle;\n    }\n\n    .dataframe tbody tr th {\n        vertical-align: top;\n    }\n\n    .dataframe thead th {\n        text-align: right;\n    }\n</style>\n<table border=\"1\" class=\"dataframe\">\n  <thead>\n    <tr style=\"text-align: right;\">\n      <th></th>\n      <th>WTT</th>\n      <th>PTI</th>\n      <th>EQW</th>\n      <th>SBI</th>\n      <th>LQE</th>\n      <th>QWG</th>\n      <th>FDJ</th>\n      <th>PJF</th>\n      <th>HQE</th>\n      <th>NXJ</th>\n    </tr>\n  </thead>\n  <tbody>\n    <tr>\n      <th>0</th>\n      <td>-0.123542</td>\n      <td>0.185907</td>\n      <td>-0.913431</td>\n      <td>0.319629</td>\n      <td>-1.033637</td>\n      <td>-2.308375</td>\n      <td>-0.798951</td>\n      <td>-1.482368</td>\n      <td>-0.949719</td>\n      <td>-0.643314</td>\n    </tr>\n    <tr>\n      <th>1</th>\n      <td>-1.084836</td>\n      <td>-0.430348</td>\n      <td>-1.025313</td>\n      <td>0.625388</td>\n      <td>-0.444847</td>\n      <td>-1.152706</td>\n      <td>-1.129797</td>\n      <td>-0.202240</td>\n      <td>-1.828051</td>\n      <td>0.636759</td>\n    </tr>\n    <tr>\n      <th>2</th>\n      <td>-0.788702</td>\n      <td>0.339318</td>\n      <td>0.301511</td>\n      <td>0.755873</td>\n      <td>2.031693</td>\n      <td>-0.870156</td>\n      <td>2.599818</td>\n      <td>0.285707</td>\n      <td>-0.682494</td>\n      <td>-0.377850</td>\n    </tr>\n    <tr>\n      <th>3</th>\n      <td>0.982841</td>\n      <td>1.060193</td>\n      <td>-0.621399</td>\n      <td>0.625299</td>\n      <td>0.452820</td>\n      <td>-0.267220</td>\n      <td>1.750208</td>\n      <td>1.066491</td>\n      <td>1.241325</td>\n      <td>-1.026987</td>\n    </tr>\n    <tr>\n      <th>4</th>\n      <td>1.139275</td>\n      <td>-0.640392</td>\n      <td>-0.709819</td>\n      <td>-0.057175</td>\n      <td>0.822886</td>\n      <td>-0.936773</td>\n      <td>0.596782</td>\n      <td>-1.472352</td>\n      <td>1.040772</td>\n      <td>0.276510</td>\n    </tr>\n  </tbody>\n</table>\n</div>"
          },
          "metadata": {}
        }
      ]
    },
    {
      "metadata": {
        "_uuid": "b304339a0badd9495788ba43537d078ccae81dec",
        "_cell_guid": "9caa7446-4b30-4425-bb17-b716049168ba",
        "trusted": true
      },
      "cell_type": "code",
      "source": "X = df_feat\ny = df['TARGET CLASS']\n\nfrom sklearn.cross_validation import train_test_split\n\nX_train, X_test, y_train, y_test = train_test_split(X, y, test_size=0.3, random_state=101)",
      "execution_count": 11,
      "outputs": [
        {
          "output_type": "stream",
          "text": "/opt/conda/lib/python3.6/site-packages/sklearn/cross_validation.py:41: DeprecationWarning: This module was deprecated in version 0.18 in favor of the model_selection module into which all the refactored classes and functions are moved. Also note that the interface of the new CV iterators are different from that of this module. This module will be removed in 0.20.\n  \"This module will be removed in 0.20.\", DeprecationWarning)\n",
          "name": "stderr"
        }
      ]
    },
    {
      "metadata": {
        "collapsed": true,
        "_uuid": "f91444215303c7e6fb9a5e41493cc44ec5949520",
        "_cell_guid": "82cf199f-3cf8-4978-8305-a2a714a5b3dc",
        "trusted": true
      },
      "cell_type": "code",
      "source": "from sklearn.neighbors import KNeighborsClassifier",
      "execution_count": 12,
      "outputs": []
    },
    {
      "metadata": {
        "collapsed": true,
        "_uuid": "0bff46a980e48a81b571f3b7d5f73b6295dbd2ed",
        "_cell_guid": "0758a880-45be-4481-bc71-ab50a740fcec",
        "trusted": true
      },
      "cell_type": "code",
      "source": "knn = KNeighborsClassifier(n_neighbors=1)",
      "execution_count": 13,
      "outputs": []
    },
    {
      "metadata": {
        "_uuid": "89cb754daad92b11789740e39bd929f053bcd1d0",
        "_cell_guid": "e3131e7d-13be-46a2-8437-64bc9a623199",
        "trusted": true
      },
      "cell_type": "code",
      "source": "knn.fit(X_train,y_train)",
      "execution_count": 14,
      "outputs": [
        {
          "output_type": "execute_result",
          "execution_count": 14,
          "data": {
            "text/plain": "KNeighborsClassifier(algorithm='auto', leaf_size=30, metric='minkowski',\n           metric_params=None, n_jobs=1, n_neighbors=1, p=2,\n           weights='uniform')"
          },
          "metadata": {}
        }
      ]
    },
    {
      "metadata": {
        "collapsed": true,
        "_uuid": "26c71a5f1c60d25534ea62abd431e4896c1a867d",
        "_cell_guid": "2fd59fb9-864d-4616-8b7d-a926b4d7037c",
        "trusted": true
      },
      "cell_type": "code",
      "source": "predictions = knn.predict(X_test)",
      "execution_count": 15,
      "outputs": []
    },
    {
      "metadata": {
        "_uuid": "1b5e8a652643bc0d64c8aa25a85cce51a1cba40d",
        "_cell_guid": "a044b340-f676-4a1f-8339-0caddef03793",
        "trusted": true,
        "collapsed": true
      },
      "cell_type": "code",
      "source": "",
      "execution_count": null,
      "outputs": []
    },
    {
      "metadata": {
        "collapsed": true,
        "_uuid": "f71c04a9804dc9bc77dc0d5c4f0c10f2860f479c",
        "_cell_guid": "f1070ed7-05a2-404f-bf6c-9dfe3a29cb04",
        "trusted": true
      },
      "cell_type": "code",
      "source": "from sklearn.metrics import classification_report,confusion_matrix",
      "execution_count": 16,
      "outputs": []
    },
    {
      "metadata": {
        "_uuid": "46dd599384853a218a85f6d3db56c65828042dea",
        "_cell_guid": "711fa1f9-5aa9-43d3-8337-6e2f7fe9ff4f",
        "trusted": true
      },
      "cell_type": "code",
      "source": "\nprint(classification_report(y_test,predictions))",
      "execution_count": 17,
      "outputs": [
        {
          "output_type": "stream",
          "text": "             precision    recall  f1-score   support\n\n          0       0.91      0.95      0.93       159\n          1       0.94      0.89      0.92       141\n\navg / total       0.92      0.92      0.92       300\n\n",
          "name": "stdout"
        }
      ]
    },
    {
      "metadata": {
        "_uuid": "7a2a416c4fdd56aeeb139bff75ea5ed577499518",
        "_cell_guid": "d9fe679b-0e5d-4e0d-a890-6c37610ba502",
        "trusted": true
      },
      "cell_type": "code",
      "source": "print(confusion_matrix(y_test,predictions))",
      "execution_count": 18,
      "outputs": [
        {
          "output_type": "stream",
          "text": "[[151   8]\n [ 15 126]]\n",
          "name": "stdout"
        }
      ]
    },
    {
      "metadata": {
        "collapsed": true,
        "_uuid": "876ee9ac776610559ab711d843eb183deb51d0fe",
        "_cell_guid": "334550d9-386b-48a0-afbb-ccd8f16fcaf2",
        "trusted": true
      },
      "cell_type": "code",
      "source": "error_rate = []\n\nfor i in range(1,50):\n    knn = KNeighborsClassifier(n_neighbors=i)\n    knn.fit(X_train,y_train)\n    prediction = knn.predict(X_test)\n    error_rate.append(np.mean(prediction != y_test))",
      "execution_count": 19,
      "outputs": []
    },
    {
      "metadata": {
        "_uuid": "6fa3d7e211fe9631260895085cdf295ba9db56ab",
        "_cell_guid": "e98464ad-c650-4e73-84db-4bbcfe918b09",
        "trusted": true
      },
      "cell_type": "code",
      "source": "plt.figure(figsize=(14,6))\nplt.plot(range(1,50),error_rate,linestyle = '--',marker = 'o',color='black',markerfacecolor='red')\nplt.title('Error Rate vs K value')\nplt.xlabel('K value')\nplt.ylabel('Error value')",
      "execution_count": 20,
      "outputs": [
        {
          "output_type": "execute_result",
          "execution_count": 20,
          "data": {
            "text/plain": "Text(0,0.5,'Error value')"
          },
          "metadata": {}
        },
        {
          "output_type": "display_data",
          "data": {
            "text/plain": "<matplotlib.figure.Figure at 0x7f668f532748>",
            "image/png": "[encoded data removed]"
          },
          "metadata": {}
        }
      ]
    },
    {
      "metadata": {
        "_uuid": "93e1764de0e37a475c02d1e7b8cc9ba7b7a08a11",
        "_cell_guid": "7ee9f834-372e-4819-aaef-844334154442",
        "trusted": true
      },
      "cell_type": "code",
      "source": "knn = KNeighborsClassifier(n_neighbors=40)\nknn.fit(X_train,y_train)\npredictions = knn.predict(X_test)\nprint(classification_report(y_test,predictions))\nprint(confusion_matrix(y_test,predictions))",
      "execution_count": 21,
      "outputs": [
        {
          "output_type": "stream",
          "text": "             precision    recall  f1-score   support\n\n          0       0.96      0.97      0.96       159\n          1       0.96      0.95      0.96       141\n\navg / total       0.96      0.96      0.96       300\n\n[[154   5]\n [  7 134]]\n",
          "name": "stdout"
        }
      ]
    },
    {
      "metadata": {
        "collapsed": true,
        "_uuid": "7c313c3e322dae4957e612312b083659191012a1",
        "_cell_guid": "b72f14da-2e8e-4d0e-93dc-d07d9fef8e86",
        "trusted": true
      },
      "cell_type": "code",
      "source": "",
      "execution_count": null,
      "outputs": []
    },
    {
      "metadata": {
        "trusted": true,
        "collapsed": true,
        "_uuid": "fd8d4ce5450dedff032c21da36dcffe58da01d89"
      },
      "cell_type": "code",
      "source": "",
      "execution_count": null,
      "outputs": []
    }
  ],
  "metadata": {
    "language_info": {
      "name": "python",
      "version": "3.6.4",
      "mimetype": "text/x-python",
      "codemirror_mode": {
        "name": "ipython",
        "version": 3
      },
      "pygments_lexer": "ipython3",
      "nbconvert_exporter": "python",
      "file_extension": ".py"
    },
    "kernelspec": {
      "display_name": "Python 3",
      "language": "python",
      "name": "python3"
    }
  },
  "nbformat": 4,
  "nbformat_minor": 1
}