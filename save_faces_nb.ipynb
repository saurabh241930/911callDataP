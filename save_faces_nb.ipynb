{
 "cells": [
  {
   "cell_type": "code",
   "execution_count": null,
   "metadata": {},
   "outputs": [],
   "source": [
    "import face_recognition\n",
    "import csv\n",
    "import datetime\n",
    "from pathlib import Path\n",
    "import cv2\n",
    "import dlib\n",
    "import numpy as np\n",
    "import argparse\n",
    "from contextlib import contextmanager\n",
    "from wide_resnet import WideResNet\n",
    "from keras.utils.data_utils import get_file\n",
    "import os"
   ]
  },
  {
   "cell_type": "code",
   "execution_count": null,
   "metadata": {},
   "outputs": [],
   "source": [
    "pretrained_model = \"https://github.com/yu4u/age-gender-estimation/releases/download/v0.5/weights.28-3.73.hdf5\"\n",
    "modhash = 'fbe63257a054c1c5466cfd7bf14646d6'"
   ]
  },
  {
   "cell_type": "code",
   "execution_count": null,
   "metadata": {},
   "outputs": [],
   "source": [
    "result_file = open(os.getcwd()+\"/\"+\"results.csv\", \"a\")\n",
    "myFields = ['Date', 'Time', 'FaceID', 'Gender', 'Age']\n",
    "\n",
    "writer = csv.DictWriter(result_file, fieldnames=myFields)\n",
    "writer.writeheader()"
   ]
  },
  {
   "cell_type": "code",
   "execution_count": null,
   "metadata": {},
   "outputs": [],
   "source": [
    "depth = 16\n",
    "k = 8\n",
    "weight_file = None\n",
    "margin = 0.4\n",
    "image_dir = \"\""
   ]
  },
  {
   "cell_type": "code",
   "execution_count": null,
   "metadata": {},
   "outputs": [],
   "source": [
    "if not weight_file:\n",
    "        weight_file = get_file(\"weights.28-3.73.hdf5\", pretrained_model, cache_subdir=\"pretrained_models\",\n",
    "                               file_hash=modhash, cache_dir=str(Path(__file__).resolve().parent))"
   ]
  },
  {
   "cell_type": "code",
   "execution_count": null,
   "metadata": {},
   "outputs": [],
   "source": [
    "detector = dlib.get_frontal_face_detector()"
   ]
  },
  {
   "cell_type": "code",
   "execution_count": null,
   "metadata": {},
   "outputs": [],
   "source": [
    "# load model and weights\n",
    "img_size = 64\n",
    "#img_size = 128\n",
    "model = WideResNet(img_size, depth=depth, k=k)()\n",
    "model.load_weights(weight_file)\n",
    "image_path=\"/home/sensus/Development/age-gender-estimation/faces_image/\"\n",
    "faces_path=\"/media/sensus/DF76-0250/DriveDevelopment/Development/age-gender-estimation/faces/\""
   ]
  },
  {
   "cell_type": "code",
   "execution_count": null,
   "metadata": {},
   "outputs": [],
   "source": [
    "index= 0\n",
    "for path in Path(image_dir).glob(\"*.*\"):\n",
    "        #print(path)\n",
    "        name = str(path).split(\"/\")[-1]\n",
    "        #print(str(name))\n",
    "        img = cv2.imread(str(path),1)\n",
    "\n",
    "        if img is not None:\n",
    "            h,w, _ = img.shape\n",
    "            r = 640 /max(w,h)\n",
    "            '''\n",
    "            face_landmarks_list = face_recognition.face_landmarks(img)\n",
    "            print(str(face_landmarks_list))\n",
    "            '''\n",
    "            #cv2.resize(img,(int(w*r),int(h*r)))\n",
    "            \n",
    "            input_img = cv2.cvtColor(img, cv2.COLOR_BGR2RGB)\n",
    "            \n",
    "            img_h, img_w, _ = np.shape(input_img)\n",
    "\n",
    "            # detect faces using dlib detector\n",
    "            detected = detector(input_img, 1)\n",
    "            #print(detected)\n",
    "            faces = np.empty((len(detected), img_size, img_size, 3))\n",
    "            if len(detected) > 0:\n",
    "                for i, d in enumerate(detected):\n",
    "                    x1, y1, x2, y2, w, h = d.left(), d.top(), d.right() + 1, d.bottom() + 1, d.width(), d.height()\n",
    "                    xw1 = max(int(x1 - margin * w), 0)\n",
    "                    yw1 = max(int(y1 - margin * h), 0)\n",
    "                    xw2 = min(int(x2 + margin * w), img_w - 1)\n",
    "                    yw2 = min(int(y2 + margin * h), img_h - 1)\n",
    "                    print('xw1 :'+str(xw1)+'yw1 :'+str(yw1)+'xw2 :'+str(xw2)+'yw2 :'+str(yw2))\n",
    "                    faces[i, :, :, :] = cv2.resize(img[yw1:yw2 + 1, xw1:xw2 + 1, :], (img_size, img_size))\n",
    "                    '''\n",
    "                    print(str(name))\n",
    "                    m = str(name).split('.')[0]\n",
    "                    index = 0\n",
    "                \n",
    "                    for f in faces:\n",
    "                        cv2.imwrite(os.path.join(faces_path,str(m)+\"_face-\"+str(index)+\".jpg\"),f)\n",
    "                        #print(f)\n",
    "                        index = index + 1\n",
    "                    '''\n",
    "                    print(\"___________________________________________\")\n",
    "                    fll = face_recognition.face_landmarks(img)\n",
    "                    le = 0\n",
    "                    if (len(fll) > 0):\n",
    "                        x = fll[0]\n",
    "                        #print(str(x))\n",
    "                        for key in x:\n",
    "                           le = le + len(x[key])\n",
    "                    else:\n",
    "                        pass\n",
    "\n",
    "                    print(le)\n",
    "                    if (le == 72):\n",
    "                        # predict ages and genders of the detected faces\n",
    "                        \n",
    "                        results = model.predict(faces)\n",
    "                        predicted_genders = results[0]\n",
    "                        ages = np.arange(0, 101).reshape(101, 1)\n",
    "                        predicted_ages = results[1].dot(ages).flatten()\n",
    "                        \n",
    "                        print(predicted_ages[0])\n",
    "                        #index = 0\n",
    "                        m = str(name).split('.')[0]\n",
    "                        d = m.split('_')[1]\n",
    "                        h = m.split('_')[2]\n",
    "                        t = int(int(m.split('image')[1])/60)\n",
    "                        s = int(int(m.split('image')[1])%60)\n",
    "                        e = str(h)+\":\"+str(t)+\":\"+str(s)\n",
    "                        print(str(name))\n",
    "                        \n",
    "                        '''\n",
    "                        result_face = model.predict(f)\n",
    "                        predicted_genders = result_face[0]\n",
    "                        ages = np.arange(0,101).reshape(101,1)\n",
    "                        predicted_ages_face = result_face[1].dot(ages).flatten()\n",
    "                        '''\n",
    "                        crop_img = img[yw1:yw2 + 1, xw1:xw2 + 1]\n",
    "                        #cv2.imwrite()\n",
    "                        ids = (str(m)+\"_face-\"+str(i)+\"_\"+str(\"M\" if predicted_genders[index][0] < 0.5 else \"F\")+\"_\"+str(round(predicted_ages[i])))\n",
    "                        print(ids)\n",
    "                        cv2.imwrite(os.path.join(faces_path,str(m)+\"_face-\"+str(i)+\"_\"+str(\"M\" if predicted_genders[index][0] < 0.5 else \"F\")+\"_\"+str(round(predicted_ages[i]))+\".jpg\"), crop_img)\n",
    "                        print(\"___________________________________________\")\n",
    "\n",
    "\n",
    "                        print(predicted_ages[i])\n",
    "                        print(predicted_genders)\n",
    "                        print(\"M\" if predicted_genders[i][0] < 0.5 else \"F\")\n",
    "                        print(\"___________________________________________\")\n",
    "\n",
    "                        cv2.imwrite(os.path.join(image_path,str(name)),img)\n",
    "                    else:\n",
    "                        pass"
   ]
  }
 ],
 "metadata": {
  "kernelspec": {
   "display_name": "Python 3",
   "language": "python",
   "name": "python3"
  },
  "language_info": {
   "codemirror_mode": {
    "name": "ipython",
    "version": 3
   },
   "file_extension": ".py",
   "mimetype": "text/x-python",
   "name": "python",
   "nbconvert_exporter": "python",
   "pygments_lexer": "ipython3",
   "version": "3.5.2"
  }
 },
 "nbformat": 4,
 "nbformat_minor": 2
}
