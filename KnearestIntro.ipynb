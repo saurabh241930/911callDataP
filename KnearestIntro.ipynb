{
  "cells": [
    {
      "metadata": {
        "collapsed": true,
        "_uuid": "8f2839f25d086af736a60e9eeb907d3b93b6e0e5",
        "_cell_guid": "b1076dfc-b9ad-4769-8c92-a6c4dae69d19",
        "trusted": false
      },
      "cell_type": "code",
      "source": "import numpy as np \nimport pandas as pd \nimport matplotlib.pyplot as plt\nimport seaborn as sns",
      "execution_count": null,
      "outputs": []
    },
    {
      "metadata": {
        "collapsed": true,
        "_uuid": "d629ff2d2480ee46fbb7e2d37f6b5fab8052498a",
        "_cell_guid": "79c7e3d0-c299-4dcb-8224-4455121ee9b0",
        "trusted": false
      },
      "cell_type": "code",
      "source": "%matplotlib inline",
      "execution_count": null,
      "outputs": []
    },
    {
      "metadata": {
        "_uuid": "80dbb79c57af23c73645cae3af4f3d0e0860c49e",
        "_cell_guid": "936de60f-c0c7-4bea-bc63-377eda17264a",
        "trusted": false,
        "collapsed": true
      },
      "cell_type": "code",
      "source": "df = pd.read_csv('../input/Classified Data',index_col=0)\ndf.head()",
      "execution_count": null,
      "outputs": []
    },
    {
      "metadata": {
        "collapsed": true,
        "_uuid": "719c14c7ac24c1fb5ca255e7413bc1c85e1bc186",
        "_cell_guid": "d3cc6c94-3971-4276-87f4-2273321e923b",
        "trusted": false
      },
      "cell_type": "code",
      "source": "from sklearn.preprocessing import StandardScaler",
      "execution_count": null,
      "outputs": []
    },
    {
      "metadata": {
        "collapsed": true,
        "_uuid": "7de545b44cb6e48044c54f1f43de00c499f0a373",
        "_cell_guid": "48d71586-0308-42fa-ae02-36c2e2089237",
        "trusted": false
      },
      "cell_type": "code",
      "source": "scaler = StandardScaler()",
      "execution_count": null,
      "outputs": []
    },
    {
      "metadata": {
        "_uuid": "545682f938aa8386a630d56c91aa7db93f739966",
        "_cell_guid": "8bad54cf-c4c6-477b-a1f8-4ac9ad94bad5",
        "trusted": false,
        "collapsed": true
      },
      "cell_type": "code",
      "source": "scaler.fit(df.drop('TARGET CLASS',axis=1))",
      "execution_count": null,
      "outputs": []
    },
    {
      "metadata": {
        "collapsed": true,
        "_uuid": "e5fe6814f76addb1d32252003233dee641b9bb8b",
        "_cell_guid": "4c601aa4-e664-4d44-ad11-d25cf738ced1",
        "trusted": false
      },
      "cell_type": "code",
      "source": "scaled_features = scaler.transform(df.drop('TARGET CLASS',axis=1))",
      "execution_count": null,
      "outputs": []
    },
    {
      "metadata": {
        "_uuid": "3061472d87a45a25fd1d2110182982ed451f9eae",
        "_cell_guid": "5b0a0c04-c6ff-4cd8-ba4c-d1d1909c62d9",
        "trusted": false,
        "collapsed": true
      },
      "cell_type": "code",
      "source": "scaled_features",
      "execution_count": null,
      "outputs": []
    },
    {
      "metadata": {
        "_uuid": "94cd838685223ba873cefabb87976ba77596a2cb",
        "_cell_guid": "fe732df8-7497-409a-8901-05567a01ea6c",
        "trusted": false,
        "collapsed": true
      },
      "cell_type": "code",
      "source": "df_feat = pd.DataFrame(scaled_features,columns=df.columns[:-1])",
      "execution_count": null,
      "outputs": []
    },
    {
      "metadata": {
        "_uuid": "fc8d03e94b695bcb6df23559c6e7c1e1ada1a019",
        "_cell_guid": "81c1520f-d39e-4b89-b924-0d1b030a05d7",
        "trusted": false,
        "collapsed": true
      },
      "cell_type": "code",
      "source": "df_feat.head()",
      "execution_count": null,
      "outputs": []
    },
    {
      "metadata": {
        "_uuid": "b304339a0badd9495788ba43537d078ccae81dec",
        "_cell_guid": "9caa7446-4b30-4425-bb17-b716049168ba",
        "trusted": false,
        "collapsed": true
      },
      "cell_type": "code",
      "source": "X = df_feat\ny = df['TARGET CLASS']\n\nfrom sklearn.cross_validation import train_test_split\n\nX_train, X_test, y_train, y_test = train_test_split(X, y, test_size=0.3, random_state=101)",
      "execution_count": null,
      "outputs": []
    },
    {
      "metadata": {
        "collapsed": true,
        "_uuid": "f91444215303c7e6fb9a5e41493cc44ec5949520",
        "_cell_guid": "82cf199f-3cf8-4978-8305-a2a714a5b3dc",
        "trusted": false
      },
      "cell_type": "code",
      "source": "from sklearn.neighbors import KNeighborsClassifier",
      "execution_count": null,
      "outputs": []
    },
    {
      "metadata": {
        "collapsed": true,
        "_uuid": "0bff46a980e48a81b571f3b7d5f73b6295dbd2ed",
        "_cell_guid": "0758a880-45be-4481-bc71-ab50a740fcec",
        "trusted": false
      },
      "cell_type": "code",
      "source": "knn = KNeighborsClassifier(n_neighbors=1)",
      "execution_count": null,
      "outputs": []
    },
    {
      "metadata": {
        "_uuid": "89cb754daad92b11789740e39bd929f053bcd1d0",
        "_cell_guid": "e3131e7d-13be-46a2-8437-64bc9a623199",
        "trusted": false,
        "collapsed": true
      },
      "cell_type": "code",
      "source": "knn.fit(X_train,y_train)",
      "execution_count": null,
      "outputs": []
    },
    {
      "metadata": {
        "collapsed": true,
        "_uuid": "26c71a5f1c60d25534ea62abd431e4896c1a867d",
        "_cell_guid": "2fd59fb9-864d-4616-8b7d-a926b4d7037c",
        "trusted": false
      },
      "cell_type": "code",
      "source": "predictions = knn.predict(X_test)",
      "execution_count": null,
      "outputs": []
    },
    {
      "metadata": {
        "_uuid": "1b5e8a652643bc0d64c8aa25a85cce51a1cba40d",
        "_cell_guid": "a044b340-f676-4a1f-8339-0caddef03793",
        "trusted": false,
        "collapsed": true
      },
      "cell_type": "code",
      "source": "",
      "execution_count": null,
      "outputs": []
    },
    {
      "metadata": {
        "collapsed": true,
        "_uuid": "f71c04a9804dc9bc77dc0d5c4f0c10f2860f479c",
        "_cell_guid": "f1070ed7-05a2-404f-bf6c-9dfe3a29cb04",
        "trusted": false
      },
      "cell_type": "code",
      "source": "from sklearn.metrics import classification_report,confusion_matrix",
      "execution_count": null,
      "outputs": []
    },
    {
      "metadata": {
        "_uuid": "46dd599384853a218a85f6d3db56c65828042dea",
        "_cell_guid": "711fa1f9-5aa9-43d3-8337-6e2f7fe9ff4f",
        "trusted": false,
        "collapsed": true
      },
      "cell_type": "code",
      "source": "\nprint(classification_report(y_test,predictions))",
      "execution_count": null,
      "outputs": []
    },
    {
      "metadata": {
        "_uuid": "7a2a416c4fdd56aeeb139bff75ea5ed577499518",
        "_cell_guid": "d9fe679b-0e5d-4e0d-a890-6c37610ba502",
        "trusted": false,
        "collapsed": true
      },
      "cell_type": "code",
      "source": "print(confusion_matrix(y_test,predictions))",
      "execution_count": null,
      "outputs": []
    },
    {
      "metadata": {
        "collapsed": true,
        "_uuid": "876ee9ac776610559ab711d843eb183deb51d0fe",
        "_cell_guid": "334550d9-386b-48a0-afbb-ccd8f16fcaf2",
        "trusted": false
      },
      "cell_type": "code",
      "source": "error_rate = []\n\nfor i in range(1,50):\n    knn = KNeighborsClassifier(n_neighbors=i)\n    knn.fit(X_train,y_train)\n    prediction = knn.predict(X_test)\n    error_rate.append(np.mean(prediction != y_test))",
      "execution_count": null,
      "outputs": []
    },
    {
      "metadata": {
        "_uuid": "6fa3d7e211fe9631260895085cdf295ba9db56ab",
        "_cell_guid": "e98464ad-c650-4e73-84db-4bbcfe918b09",
        "trusted": false,
        "collapsed": true
      },
      "cell_type": "code",
      "source": "plt.figure(figsize=(14,6))\nplt.plot(range(1,50),error_rate,linestyle = '--',marker = 'o',color='black',markerfacecolor='red')\nplt.title('Error Rate vs K value')\nplt.xlabel('K value')\nplt.ylabel('Error value')",
      "execution_count": null,
      "outputs": []
    },
    {
      "metadata": {
        "_uuid": "93e1764de0e37a475c02d1e7b8cc9ba7b7a08a11",
        "_cell_guid": "7ee9f834-372e-4819-aaef-844334154442",
        "trusted": false,
        "collapsed": true
      },
      "cell_type": "code",
      "source": "knn = KNeighborsClassifier(n_neighbors=40)\nknn.fit(X_train,y_train)\npredictions = knn.predict(X_test)\nprint(classification_report(y_test,predictions))\nprint(confusion_matrix(y_test,predictions))",
      "execution_count": null,
      "outputs": []
    },
    {
      "metadata": {
        "collapsed": true,
        "_uuid": "7c313c3e322dae4957e612312b083659191012a1",
        "_cell_guid": "b72f14da-2e8e-4d0e-93dc-d07d9fef8e86",
        "trusted": false
      },
      "cell_type": "code",
      "source": "",
      "execution_count": null,
      "outputs": []
    }
  ],
  "metadata": {
    "language_info": {
      "name": "python",
      "version": "3.6.4",
      "mimetype": "text/x-python",
      "codemirror_mode": {
        "name": "ipython",
        "version": 3
      },
      "pygments_lexer": "ipython3",
      "nbconvert_exporter": "python",
      "file_extension": ".py"
    },
    "kernelspec": {
      "display_name": "Python 3",
      "language": "python",
      "name": "python3"
    }
  },
  "nbformat": 4,
  "nbformat_minor": 1
}